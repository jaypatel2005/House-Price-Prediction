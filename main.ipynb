{
 "cells": [
  {
   "cell_type": "code",
   "execution_count": 1,
   "id": "b1c80925",
   "metadata": {},
   "outputs": [],
   "source": [
    "import pandas as pd\n",
    "import numpy as np"
   ]
  },
  {
   "cell_type": "code",
   "execution_count": 2,
   "id": "7bf2205d",
   "metadata": {},
   "outputs": [
    {
     "data": {
      "text/html": [
       "<div>\n",
       "<style scoped>\n",
       "    .dataframe tbody tr th:only-of-type {\n",
       "        vertical-align: middle;\n",
       "    }\n",
       "\n",
       "    .dataframe tbody tr th {\n",
       "        vertical-align: top;\n",
       "    }\n",
       "\n",
       "    .dataframe thead th {\n",
       "        text-align: right;\n",
       "    }\n",
       "</style>\n",
       "<table border=\"1\" class=\"dataframe\">\n",
       "  <thead>\n",
       "    <tr style=\"text-align: right;\">\n",
       "      <th></th>\n",
       "      <th>area_type</th>\n",
       "      <th>availability</th>\n",
       "      <th>location</th>\n",
       "      <th>size</th>\n",
       "      <th>society</th>\n",
       "      <th>total_sqft</th>\n",
       "      <th>bath</th>\n",
       "      <th>balcony</th>\n",
       "      <th>price</th>\n",
       "    </tr>\n",
       "  </thead>\n",
       "  <tbody>\n",
       "    <tr>\n",
       "      <th>0</th>\n",
       "      <td>Super built-up  Area</td>\n",
       "      <td>19-Dec</td>\n",
       "      <td>Electronic City Phase II</td>\n",
       "      <td>2 BHK</td>\n",
       "      <td>Coomee</td>\n",
       "      <td>1056</td>\n",
       "      <td>2.0</td>\n",
       "      <td>1.0</td>\n",
       "      <td>39.07</td>\n",
       "    </tr>\n",
       "    <tr>\n",
       "      <th>1</th>\n",
       "      <td>Plot  Area</td>\n",
       "      <td>Ready To Move</td>\n",
       "      <td>Chikka Tirupathi</td>\n",
       "      <td>4 Bedroom</td>\n",
       "      <td>Theanmp</td>\n",
       "      <td>2600</td>\n",
       "      <td>5.0</td>\n",
       "      <td>3.0</td>\n",
       "      <td>120.00</td>\n",
       "    </tr>\n",
       "    <tr>\n",
       "      <th>2</th>\n",
       "      <td>Built-up  Area</td>\n",
       "      <td>Ready To Move</td>\n",
       "      <td>Uttarahalli</td>\n",
       "      <td>3 BHK</td>\n",
       "      <td>NaN</td>\n",
       "      <td>1440</td>\n",
       "      <td>2.0</td>\n",
       "      <td>3.0</td>\n",
       "      <td>62.00</td>\n",
       "    </tr>\n",
       "    <tr>\n",
       "      <th>3</th>\n",
       "      <td>Super built-up  Area</td>\n",
       "      <td>Ready To Move</td>\n",
       "      <td>Lingadheeranahalli</td>\n",
       "      <td>3 BHK</td>\n",
       "      <td>Soiewre</td>\n",
       "      <td>1521</td>\n",
       "      <td>3.0</td>\n",
       "      <td>1.0</td>\n",
       "      <td>95.00</td>\n",
       "    </tr>\n",
       "    <tr>\n",
       "      <th>4</th>\n",
       "      <td>Super built-up  Area</td>\n",
       "      <td>Ready To Move</td>\n",
       "      <td>Kothanur</td>\n",
       "      <td>2 BHK</td>\n",
       "      <td>NaN</td>\n",
       "      <td>1200</td>\n",
       "      <td>2.0</td>\n",
       "      <td>1.0</td>\n",
       "      <td>51.00</td>\n",
       "    </tr>\n",
       "  </tbody>\n",
       "</table>\n",
       "</div>"
      ],
      "text/plain": [
       "              area_type   availability                  location       size  \\\n",
       "0  Super built-up  Area         19-Dec  Electronic City Phase II      2 BHK   \n",
       "1            Plot  Area  Ready To Move          Chikka Tirupathi  4 Bedroom   \n",
       "2        Built-up  Area  Ready To Move               Uttarahalli      3 BHK   \n",
       "3  Super built-up  Area  Ready To Move        Lingadheeranahalli      3 BHK   \n",
       "4  Super built-up  Area  Ready To Move                  Kothanur      2 BHK   \n",
       "\n",
       "   society total_sqft  bath  balcony   price  \n",
       "0  Coomee        1056   2.0      1.0   39.07  \n",
       "1  Theanmp       2600   5.0      3.0  120.00  \n",
       "2      NaN       1440   2.0      3.0   62.00  \n",
       "3  Soiewre       1521   3.0      1.0   95.00  \n",
       "4      NaN       1200   2.0      1.0   51.00  "
      ]
     },
     "execution_count": 2,
     "metadata": {},
     "output_type": "execute_result"
    }
   ],
   "source": [
    "data = pd.read_csv(\"Bengaluru_House_Data.csv\")\n",
    "data.head()"
   ]
  },
  {
   "cell_type": "code",
   "execution_count": 3,
   "id": "4ee5a884",
   "metadata": {},
   "outputs": [
    {
     "name": "stdout",
     "output_type": "stream",
     "text": [
      "<class 'pandas.core.frame.DataFrame'>\n",
      "RangeIndex: 13320 entries, 0 to 13319\n",
      "Data columns (total 9 columns):\n",
      " #   Column        Non-Null Count  Dtype  \n",
      "---  ------        --------------  -----  \n",
      " 0   area_type     13320 non-null  object \n",
      " 1   availability  13320 non-null  object \n",
      " 2   location      13319 non-null  object \n",
      " 3   size          13304 non-null  object \n",
      " 4   society       7818 non-null   object \n",
      " 5   total_sqft    13320 non-null  object \n",
      " 6   bath          13247 non-null  float64\n",
      " 7   balcony       12711 non-null  float64\n",
      " 8   price         13320 non-null  float64\n",
      "dtypes: float64(3), object(6)\n",
      "memory usage: 936.7+ KB\n"
     ]
    }
   ],
   "source": [
    "data.info()"
   ]
  },
  {
   "cell_type": "code",
   "execution_count": 4,
   "id": "29fc2b7a",
   "metadata": {},
   "outputs": [
    {
     "data": {
      "text/plain": [
       "GrrvaGr    80\n",
       "PrarePa    76\n",
       "Sryalan    59\n",
       "Prtates    59\n",
       "GMown E    56\n",
       "           ..\n",
       "Amionce     1\n",
       "JaghtDe     1\n",
       "Jauraht     1\n",
       "Brity U     1\n",
       "RSntsAp     1\n",
       "Name: society, Length: 2688, dtype: int64"
      ]
     },
     "execution_count": 4,
     "metadata": {},
     "output_type": "execute_result"
    }
   ],
   "source": [
    "data['society'].value_counts()"
   ]
  },
  {
   "cell_type": "code",
   "execution_count": 5,
   "id": "8dbc512f",
   "metadata": {},
   "outputs": [
    {
     "data": {
      "text/plain": [
       "(2688,)"
      ]
     },
     "execution_count": 5,
     "metadata": {},
     "output_type": "execute_result"
    }
   ],
   "source": [
    "data['society'].value_counts().shape"
   ]
  },
  {
   "cell_type": "code",
   "execution_count": 6,
   "id": "c2dfdc4d",
   "metadata": {},
   "outputs": [
    {
     "data": {
      "text/plain": [
       "4.955357142857143"
      ]
     },
     "execution_count": 6,
     "metadata": {},
     "output_type": "execute_result"
    }
   ],
   "source": [
    "13320/2688"
   ]
  },
  {
   "cell_type": "code",
   "execution_count": 7,
   "id": "0aa1892f",
   "metadata": {},
   "outputs": [],
   "source": [
    "data.drop([\"area_type\", \"availability\", \"society\", \"balcony\"], axis=1, inplace=True)"
   ]
  },
  {
   "cell_type": "code",
   "execution_count": 8,
   "id": "803f9ee9",
   "metadata": {},
   "outputs": [
    {
     "name": "stdout",
     "output_type": "stream",
     "text": [
      "<class 'pandas.core.frame.DataFrame'>\n",
      "RangeIndex: 13320 entries, 0 to 13319\n",
      "Data columns (total 5 columns):\n",
      " #   Column      Non-Null Count  Dtype  \n",
      "---  ------      --------------  -----  \n",
      " 0   location    13319 non-null  object \n",
      " 1   size        13304 non-null  object \n",
      " 2   total_sqft  13320 non-null  object \n",
      " 3   bath        13247 non-null  float64\n",
      " 4   price       13320 non-null  float64\n",
      "dtypes: float64(2), object(3)\n",
      "memory usage: 520.4+ KB\n"
     ]
    }
   ],
   "source": [
    "data.info()"
   ]
  },
  {
   "cell_type": "code",
   "execution_count": 9,
   "id": "ab722cb9",
   "metadata": {},
   "outputs": [],
   "source": [
    "def isFloat(x):\n",
    "    try:\n",
    "        float(x)\n",
    "        return True\n",
    "    except:\n",
    "        return False\n",
    "\n",
    "def notFloat(x):\n",
    "    try:\n",
    "        float(x)\n",
    "        return False\n",
    "    except:\n",
    "        return True\n",
    "\n",
    "def m_to_sqft(x):\n",
    "    return 10.7639*x\n",
    "\n",
    "def perch_to_sqft(x):\n",
    "    return 272.25*x\n",
    "\n",
    "def yard_to_sqft(x):\n",
    "    return 9*x\n",
    "\n",
    "def acre_to_sqft(x):\n",
    "    return 43560*x\n",
    "\n",
    "def ground_to_sqft(x):\n",
    "    return 2400.35*x\n",
    "\n",
    "def guntha_to_sqft(x):\n",
    "    return 1089.000463*x\n",
    "\n",
    "def cent_to_sqft(x):\n",
    "    return 435.559*x\n",
    "\n",
    "def range_to_sqft(s):\n",
    "    return (float(s.split('-')[1]) + float(s.split('-')[0]))/2\n",
    "\n",
    "def s_to_num(s):\n",
    "    num = ''\n",
    "    for char in s:\n",
    "        if 47 < ord(char) < 58 or char == '.':\n",
    "            num += char\n",
    "        else:\n",
    "            break\n",
    "            \n",
    "    return float(num)\n",
    "\n",
    "def sqft_to_num(s):\n",
    "    if isFloat(s):\n",
    "        return float(s)\n",
    "    if '-' in s.lower():\n",
    "        return range_to_sqft(s)\n",
    "    if 'meter' in s.lower():\n",
    "        return m_to_sqft(s_to_num(s))\n",
    "    if 'yard' in s.lower():\n",
    "        return yard_to_sqft(s_to_num(s))\n",
    "    if 'perch' in s.lower():\n",
    "        return perch_to_sqft(s_to_num(s))\n",
    "    if 'acre' in s.lower():\n",
    "        return acre_to_sqft(s_to_num(s))\n",
    "    if 'ground' in s.lower():\n",
    "        return ground_to_sqft(s_to_num(s))\n",
    "    if 'guntha' in s.lower():\n",
    "        return guntha_to_sqft(s_to_num(s))\n",
    "    if 'cent' in s.lower():\n",
    "        return cent_to_sqft(s_to_num(s))\n",
    "    return None"
   ]
  },
  {
   "cell_type": "code",
   "execution_count": 10,
   "id": "a13ad4c6",
   "metadata": {},
   "outputs": [
    {
     "data": {
      "text/html": [
       "<div>\n",
       "<style scoped>\n",
       "    .dataframe tbody tr th:only-of-type {\n",
       "        vertical-align: middle;\n",
       "    }\n",
       "\n",
       "    .dataframe tbody tr th {\n",
       "        vertical-align: top;\n",
       "    }\n",
       "\n",
       "    .dataframe thead th {\n",
       "        text-align: right;\n",
       "    }\n",
       "</style>\n",
       "<table border=\"1\" class=\"dataframe\">\n",
       "  <thead>\n",
       "    <tr style=\"text-align: right;\">\n",
       "      <th></th>\n",
       "      <th>location</th>\n",
       "      <th>size</th>\n",
       "      <th>total_sqft</th>\n",
       "      <th>bath</th>\n",
       "      <th>price</th>\n",
       "      <th>sqft_num</th>\n",
       "    </tr>\n",
       "  </thead>\n",
       "  <tbody>\n",
       "    <tr>\n",
       "      <th>10654</th>\n",
       "      <td>Kachanayakanahalli</td>\n",
       "      <td>2 BHK</td>\n",
       "      <td>827</td>\n",
       "      <td>2.0</td>\n",
       "      <td>34.00</td>\n",
       "      <td>827.0</td>\n",
       "    </tr>\n",
       "    <tr>\n",
       "      <th>11215</th>\n",
       "      <td>Whitefield</td>\n",
       "      <td>2 BHK</td>\n",
       "      <td>1277</td>\n",
       "      <td>2.0</td>\n",
       "      <td>77.00</td>\n",
       "      <td>1277.0</td>\n",
       "    </tr>\n",
       "    <tr>\n",
       "      <th>450</th>\n",
       "      <td>Raja Rajeshwari Nagar</td>\n",
       "      <td>2 BHK</td>\n",
       "      <td>1295</td>\n",
       "      <td>2.0</td>\n",
       "      <td>55.47</td>\n",
       "      <td>1295.0</td>\n",
       "    </tr>\n",
       "    <tr>\n",
       "      <th>11205</th>\n",
       "      <td>Jakkasandra Extension</td>\n",
       "      <td>2 BHK</td>\n",
       "      <td>950</td>\n",
       "      <td>2.0</td>\n",
       "      <td>57.00</td>\n",
       "      <td>950.0</td>\n",
       "    </tr>\n",
       "  </tbody>\n",
       "</table>\n",
       "</div>"
      ],
      "text/plain": [
       "                    location   size total_sqft  bath  price  sqft_num\n",
       "10654     Kachanayakanahalli  2 BHK        827   2.0  34.00     827.0\n",
       "11215             Whitefield  2 BHK       1277   2.0  77.00    1277.0\n",
       "450    Raja Rajeshwari Nagar  2 BHK       1295   2.0  55.47    1295.0\n",
       "11205  Jakkasandra Extension  2 BHK        950   2.0  57.00     950.0"
      ]
     },
     "execution_count": 10,
     "metadata": {},
     "output_type": "execute_result"
    }
   ],
   "source": [
    "data['sqft_num'] = data['total_sqft'].apply(sqft_to_num)\n",
    "data.sample(4)"
   ]
  },
  {
   "cell_type": "code",
   "execution_count": 11,
   "id": "8420592a",
   "metadata": {
    "scrolled": true
   },
   "outputs": [
    {
     "data": {
      "text/html": [
       "<div>\n",
       "<style scoped>\n",
       "    .dataframe tbody tr th:only-of-type {\n",
       "        vertical-align: middle;\n",
       "    }\n",
       "\n",
       "    .dataframe tbody tr th {\n",
       "        vertical-align: top;\n",
       "    }\n",
       "\n",
       "    .dataframe thead th {\n",
       "        text-align: right;\n",
       "    }\n",
       "</style>\n",
       "<table border=\"1\" class=\"dataframe\">\n",
       "  <thead>\n",
       "    <tr style=\"text-align: right;\">\n",
       "      <th></th>\n",
       "      <th>location</th>\n",
       "      <th>size</th>\n",
       "      <th>total_sqft</th>\n",
       "      <th>bath</th>\n",
       "      <th>price</th>\n",
       "      <th>sqft_num</th>\n",
       "      <th>price_per_sqft</th>\n",
       "    </tr>\n",
       "  </thead>\n",
       "  <tbody>\n",
       "    <tr>\n",
       "      <th>5078</th>\n",
       "      <td>Suraksha Nagar</td>\n",
       "      <td>3 BHK</td>\n",
       "      <td>1388</td>\n",
       "      <td>3.0</td>\n",
       "      <td>69.99</td>\n",
       "      <td>1388.0</td>\n",
       "      <td>5042.507205</td>\n",
       "    </tr>\n",
       "    <tr>\n",
       "      <th>9634</th>\n",
       "      <td>Malleshpalya</td>\n",
       "      <td>2 BHK</td>\n",
       "      <td>1245</td>\n",
       "      <td>2.0</td>\n",
       "      <td>55.00</td>\n",
       "      <td>1245.0</td>\n",
       "      <td>4417.670683</td>\n",
       "    </tr>\n",
       "    <tr>\n",
       "      <th>4313</th>\n",
       "      <td>Dodda Nekkundi</td>\n",
       "      <td>4 Bedroom</td>\n",
       "      <td>3400</td>\n",
       "      <td>4.0</td>\n",
       "      <td>530.00</td>\n",
       "      <td>3400.0</td>\n",
       "      <td>15588.235294</td>\n",
       "    </tr>\n",
       "    <tr>\n",
       "      <th>12428</th>\n",
       "      <td>Chennammana Kere</td>\n",
       "      <td>3 BHK</td>\n",
       "      <td>1705</td>\n",
       "      <td>2.0</td>\n",
       "      <td>86.96</td>\n",
       "      <td>1705.0</td>\n",
       "      <td>5100.293255</td>\n",
       "    </tr>\n",
       "    <tr>\n",
       "      <th>2609</th>\n",
       "      <td>7th Phase JP Nagar</td>\n",
       "      <td>3 BHK</td>\n",
       "      <td>1250</td>\n",
       "      <td>3.0</td>\n",
       "      <td>65.00</td>\n",
       "      <td>1250.0</td>\n",
       "      <td>5200.000000</td>\n",
       "    </tr>\n",
       "  </tbody>\n",
       "</table>\n",
       "</div>"
      ],
      "text/plain": [
       "                 location       size total_sqft  bath   price  sqft_num  \\\n",
       "5078       Suraksha Nagar      3 BHK       1388   3.0   69.99    1388.0   \n",
       "9634         Malleshpalya      2 BHK       1245   2.0   55.00    1245.0   \n",
       "4313       Dodda Nekkundi  4 Bedroom       3400   4.0  530.00    3400.0   \n",
       "12428    Chennammana Kere      3 BHK       1705   2.0   86.96    1705.0   \n",
       "2609   7th Phase JP Nagar      3 BHK       1250   3.0   65.00    1250.0   \n",
       "\n",
       "       price_per_sqft  \n",
       "5078      5042.507205  \n",
       "9634      4417.670683  \n",
       "4313     15588.235294  \n",
       "12428     5100.293255  \n",
       "2609      5200.000000  "
      ]
     },
     "execution_count": 11,
     "metadata": {},
     "output_type": "execute_result"
    }
   ],
   "source": [
    "data['price_per_sqft'] = data['price']*100000/data['sqft_num']\n",
    "data.sample(5)"
   ]
  },
  {
   "cell_type": "code",
   "execution_count": 12,
   "id": "982a95c6",
   "metadata": {},
   "outputs": [],
   "source": [
    "def get_bhk(x):\n",
    "    if isFloat(x):\n",
    "        return float(x)\n",
    "    \n",
    "    return float(x.split(' ')[0])"
   ]
  },
  {
   "cell_type": "code",
   "execution_count": 13,
   "id": "49969800",
   "metadata": {
    "scrolled": true
   },
   "outputs": [
    {
     "name": "stdout",
     "output_type": "stream",
     "text": [
      "<class 'pandas.core.series.Series'>\n",
      "RangeIndex: 13320 entries, 0 to 13319\n",
      "Series name: bhk\n",
      "Non-Null Count  Dtype  \n",
      "--------------  -----  \n",
      "13304 non-null  float64\n",
      "dtypes: float64(1)\n",
      "memory usage: 104.2 KB\n"
     ]
    }
   ],
   "source": [
    "data['bhk'] = data['size'].apply(get_bhk)\n",
    "data['bhk'].info()"
   ]
  },
  {
   "cell_type": "code",
   "execution_count": 14,
   "id": "b7483334",
   "metadata": {},
   "outputs": [
    {
     "data": {
      "text/plain": [
       "2.803743235117258"
      ]
     },
     "execution_count": 14,
     "metadata": {},
     "output_type": "execute_result"
    }
   ],
   "source": [
    "data['bhk'].mean()"
   ]
  },
  {
   "cell_type": "code",
   "execution_count": 15,
   "id": "e87c14bd",
   "metadata": {},
   "outputs": [
    {
     "data": {
      "text/plain": [
       "Series([], Name: bhk, dtype: float64)"
      ]
     },
     "execution_count": 15,
     "metadata": {},
     "output_type": "execute_result"
    }
   ],
   "source": [
    "data.loc[data['bhk'].isna(), 'bhk'] = 3\n",
    "data[data['bhk'].isna()]['bhk']"
   ]
  },
  {
   "cell_type": "code",
   "execution_count": 16,
   "id": "41ec87f6",
   "metadata": {},
   "outputs": [],
   "source": [
    "data['location'] = data['location'].astype(str).apply(lambda x : x.strip())"
   ]
  },
  {
   "cell_type": "code",
   "execution_count": 17,
   "id": "112b1124",
   "metadata": {},
   "outputs": [
    {
     "data": {
      "text/plain": [
       "location\n",
       "Whitefield               541\n",
       "Sarjapur  Road           399\n",
       "Electronic City          304\n",
       "Kanakpura Road           273\n",
       "Thanisandra              237\n",
       "                        ... \n",
       "1 Giri Nagar               1\n",
       "Kanakapura Road,           1\n",
       "Kanakapura main  Road      1\n",
       "Karnataka Shabarimala      1\n",
       "whitefiled                 1\n",
       "Name: location, Length: 1295, dtype: int64"
      ]
     },
     "execution_count": 17,
     "metadata": {},
     "output_type": "execute_result"
    }
   ],
   "source": [
    "location_stats = data.groupby('location')['location'].agg('count').sort_values(ascending=False)\n",
    "location_stats"
   ]
  },
  {
   "cell_type": "code",
   "execution_count": 18,
   "id": "a335f35d",
   "metadata": {},
   "outputs": [
    {
     "data": {
      "text/plain": [
       "location\n",
       "Ganga Nagar              10\n",
       "Nagappa Reddy Layout     10\n",
       "Kalkere                  10\n",
       "1st Block Koramangala    10\n",
       "Dairy Circle             10\n",
       "                         ..\n",
       "1 Giri Nagar              1\n",
       "Kanakapura Road,          1\n",
       "Kanakapura main  Road     1\n",
       "Karnataka Shabarimala     1\n",
       "whitefiled                1\n",
       "Name: location, Length: 1054, dtype: int64"
      ]
     },
     "execution_count": 18,
     "metadata": {},
     "output_type": "execute_result"
    }
   ],
   "source": [
    "less_than_10 = location_stats[location_stats<=10]\n",
    "less_than_10"
   ]
  },
  {
   "cell_type": "code",
   "execution_count": 19,
   "id": "66b01a17",
   "metadata": {},
   "outputs": [
    {
     "name": "stdout",
     "output_type": "stream",
     "text": [
      "1295\n",
      "242\n"
     ]
    }
   ],
   "source": [
    "print(len(data['location'].unique()))\n",
    "data['location'] = data['location'].apply(lambda x : 'others' if x in less_than_10 else x)\n",
    "print(len(data['location'].unique()))"
   ]
  },
  {
   "cell_type": "code",
   "execution_count": 20,
   "id": "e0744bf7",
   "metadata": {},
   "outputs": [
    {
     "name": "stdout",
     "output_type": "stream",
     "text": [
      "<class 'pandas.core.frame.DataFrame'>\n",
      "RangeIndex: 13320 entries, 0 to 13319\n",
      "Data columns (total 8 columns):\n",
      " #   Column          Non-Null Count  Dtype  \n",
      "---  ------          --------------  -----  \n",
      " 0   location        13320 non-null  object \n",
      " 1   size            13304 non-null  object \n",
      " 2   total_sqft      13320 non-null  object \n",
      " 3   bath            13247 non-null  float64\n",
      " 4   price           13320 non-null  float64\n",
      " 5   sqft_num        13320 non-null  float64\n",
      " 6   price_per_sqft  13320 non-null  float64\n",
      " 7   bhk             13320 non-null  float64\n",
      "dtypes: float64(5), object(3)\n",
      "memory usage: 832.6+ KB\n"
     ]
    }
   ],
   "source": [
    "data.info()"
   ]
  },
  {
   "cell_type": "code",
   "execution_count": 21,
   "id": "fdf00918",
   "metadata": {},
   "outputs": [],
   "source": [
    "data = data.drop(['size', 'total_sqft'], axis=1).dropna()"
   ]
  },
  {
   "cell_type": "code",
   "execution_count": 22,
   "id": "a7d83be1",
   "metadata": {
    "scrolled": true
   },
   "outputs": [
    {
     "name": "stdout",
     "output_type": "stream",
     "text": [
      "<class 'pandas.core.frame.DataFrame'>\n",
      "Int64Index: 13247 entries, 0 to 13319\n",
      "Data columns (total 6 columns):\n",
      " #   Column          Non-Null Count  Dtype  \n",
      "---  ------          --------------  -----  \n",
      " 0   location        13247 non-null  object \n",
      " 1   bath            13247 non-null  float64\n",
      " 2   price           13247 non-null  float64\n",
      " 3   sqft_num        13247 non-null  float64\n",
      " 4   price_per_sqft  13247 non-null  float64\n",
      " 5   bhk             13247 non-null  float64\n",
      "dtypes: float64(5), object(1)\n",
      "memory usage: 724.4+ KB\n"
     ]
    }
   ],
   "source": [
    "data.info()"
   ]
  },
  {
   "cell_type": "code",
   "execution_count": 23,
   "id": "33b60cea",
   "metadata": {
    "scrolled": true
   },
   "outputs": [],
   "source": [
    "data['bhk'] = data['bhk'].astype(int)"
   ]
  },
  {
   "cell_type": "code",
   "execution_count": 24,
   "id": "e8a26890",
   "metadata": {},
   "outputs": [],
   "source": [
    "data['bath'] = data['bath'].astype(int)"
   ]
  },
  {
   "cell_type": "code",
   "execution_count": 25,
   "id": "e2f8d1c8",
   "metadata": {},
   "outputs": [
    {
     "name": "stdout",
     "output_type": "stream",
     "text": [
      "<class 'pandas.core.frame.DataFrame'>\n",
      "Int64Index: 13247 entries, 0 to 13319\n",
      "Data columns (total 6 columns):\n",
      " #   Column          Non-Null Count  Dtype  \n",
      "---  ------          --------------  -----  \n",
      " 0   location        13247 non-null  object \n",
      " 1   bath            13247 non-null  int32  \n",
      " 2   price           13247 non-null  float64\n",
      " 3   sqft_num        13247 non-null  float64\n",
      " 4   price_per_sqft  13247 non-null  float64\n",
      " 5   bhk             13247 non-null  int32  \n",
      "dtypes: float64(3), int32(2), object(1)\n",
      "memory usage: 621.0+ KB\n"
     ]
    }
   ],
   "source": [
    "data.info()"
   ]
  },
  {
   "cell_type": "code",
   "execution_count": 26,
   "id": "9f11cef3",
   "metadata": {},
   "outputs": [],
   "source": [
    "import matplotlib.pyplot as plt\n",
    "import seaborn as sns"
   ]
  },
  {
   "cell_type": "code",
   "execution_count": 27,
   "id": "52b6df7c",
   "metadata": {},
   "outputs": [
    {
     "data": {
      "image/png": "[encoded data removed]",
      "text/plain": [
       "<Figure size 640x480 with 1 Axes>"
      ]
     },
     "metadata": {},
     "output_type": "display_data"
    }
   ],
   "source": [
    "sns.kdeplot(data['price_per_sqft'])\n",
    "plt.show()"
   ]
  },
  {
   "cell_type": "code",
   "execution_count": 28,
   "id": "336229ed",
   "metadata": {},
   "outputs": [
    {
     "data": {
      "text/plain": [
       "count    1.324700e+04\n",
       "mean     7.915089e+03\n",
       "std      1.065412e+05\n",
       "min      2.257423e+00\n",
       "25%      4.262295e+03\n",
       "50%      5.432373e+03\n",
       "75%      7.317073e+03\n",
       "max      1.200000e+07\n",
       "Name: price_per_sqft, dtype: float64"
      ]
     },
     "execution_count": 28,
     "metadata": {},
     "output_type": "execute_result"
    }
   ],
   "source": [
    "data['price_per_sqft'].describe()"
   ]
  },
  {
   "cell_type": "code",
   "execution_count": 29,
   "id": "12dcbfab",
   "metadata": {},
   "outputs": [
    {
     "data": {
      "text/plain": [
       "count    1.324700e+04\n",
       "mean     7.915089e+03\n",
       "std      1.065412e+05\n",
       "min      2.257423e+00\n",
       "25%      4.262295e+03\n",
       "50%      5.432373e+03\n",
       "75%      7.317073e+03\n",
       "max      1.200000e+07\n",
       "Name: price_per_sqft, dtype: float64"
      ]
     },
     "execution_count": 29,
     "metadata": {},
     "output_type": "execute_result"
    }
   ],
   "source": [
    "data['price_per_sqft'].describe()"
   ]
  },
  {
   "cell_type": "code",
   "execution_count": 30,
   "id": "0fe49fff",
   "metadata": {},
   "outputs": [],
   "source": [
    "data = data[data['bath'] < 17]"
   ]
  },
  {
   "cell_type": "code",
   "execution_count": 31,
   "id": "0f45659d",
   "metadata": {},
   "outputs": [],
   "source": [
    "data = data[data['sqft_num'] < 10000]"
   ]
  },
  {
   "cell_type": "code",
   "execution_count": 32,
   "id": "c9bf4829",
   "metadata": {},
   "outputs": [],
   "source": [
    "def remove_pps_outliers(df):\n",
    "    df_out = pd.DataFrame()\n",
    "    \n",
    "    for key, subdf in df.groupby('location'):\n",
    "        m = np.mean(subdf.price_per_sqft)\n",
    "        st = np.std(subdf.price_per_sqft)\n",
    "        reduced_df = subdf[((m-st) < subdf.price_per_sqft) & (subdf.price_per_sqft <= (m+st))]\n",
    "        df_out = pd.concat([df_out, reduced_df], ignore_index=True)\n",
    "    return df_out\n",
    "\n",
    "modified = remove_pps_outliers(data)"
   ]
  },
  {
   "cell_type": "code",
   "execution_count": 33,
   "id": "be770b4d",
   "metadata": {},
   "outputs": [
    {
     "data": {
      "text/plain": [
       "(8003, 6)"
      ]
     },
     "execution_count": 33,
     "metadata": {},
     "output_type": "execute_result"
    }
   ],
   "source": [
    "def remove_bhk_outliers(df):\n",
    "    exclude_indices = np.array([])\n",
    "    for loc, loc_df in df.groupby('location'):\n",
    "        bhk_stats = {}\n",
    "        for bhk, bhk_df in loc_df.groupby('bhk'):\n",
    "            bhk_stats[bhk] = {\n",
    "                'mean': np.mean(bhk_df.price_per_sqft),\n",
    "                'std': np.std(bhk_df.price_per_sqft),\n",
    "                'count': bhk_df.shape[0]\n",
    "            }\n",
    "        \n",
    "        for bhk, bhk_df in loc_df.groupby('bhk'):\n",
    "            stats = bhk_stats.get(bhk-1)\n",
    "            if stats and stats['count'] > 5:\n",
    "                exclude_indices = np.append(exclude_indices, bhk_df[bhk_df.price_per_sqft < (stats['mean'])].index.values)\n",
    "        \n",
    "    return df.drop(exclude_indices, axis='index')\n",
    "\n",
    "modified2 = remove_bhk_outliers(modified)\n",
    "modified2.shape"
   ]
  },
  {
   "cell_type": "code",
   "execution_count": 34,
   "id": "ef655a00",
   "metadata": {},
   "outputs": [],
   "source": [
    "data = pd.get_dummies(data=data, columns=['location'])"
   ]
  },
  {
   "cell_type": "code",
   "execution_count": 35,
   "id": "67ca6794",
   "metadata": {},
   "outputs": [],
   "source": [
    "X = data.drop(['location_others', 'price', 'price_per_sqft'], axis=1)\n",
    "y = data['price']"
   ]
  },
  {
   "cell_type": "code",
   "execution_count": 36,
   "id": "b8a53ec2",
   "metadata": {},
   "outputs": [],
   "source": [
    "from sklearn.model_selection import train_test_split as tts\n",
    "X_train, X_test, y_train, y_test = tts(X, y, test_size=0.2)"
   ]
  },
  {
   "cell_type": "code",
   "execution_count": 37,
   "id": "ae58b312",
   "metadata": {},
   "outputs": [
    {
     "name": "stdout",
     "output_type": "stream",
     "text": [
      "(10559, 244)\n",
      "(2640, 244)\n",
      "(10559,)\n",
      "(2640,)\n"
     ]
    }
   ],
   "source": [
    "print(X_train.shape)\n",
    "print(X_test.shape)\n",
    "print(y_train.shape)\n",
    "print(y_test.shape)"
   ]
  },
  {
   "cell_type": "code",
   "execution_count": 38,
   "id": "67258a24",
   "metadata": {},
   "outputs": [],
   "source": [
    "from sklearn.linear_model import LinearRegression\n",
    "from sklearn.ensemble import RandomForestRegressor\n",
    "from sklearn.svm import SVR\n",
    "\n",
    "lr = LinearRegression()\n",
    "rfr = RandomForestRegressor()\n",
    "svr = SVR()"
   ]
  },
  {
   "cell_type": "code",
   "execution_count": 39,
   "id": "9092cc18",
   "metadata": {},
   "outputs": [
    {
     "data": {
      "text/plain": [
       "0.5155777476889332"
      ]
     },
     "execution_count": 39,
     "metadata": {},
     "output_type": "execute_result"
    }
   ],
   "source": [
    "lr.fit(X_train, y_train)\n",
    "lr.score(X_test, y_test)"
   ]
  },
  {
   "cell_type": "code",
   "execution_count": 40,
   "id": "74fd0dea",
   "metadata": {},
   "outputs": [
    {
     "data": {
      "text/plain": [
       "0.43113764160877743"
      ]
     },
     "execution_count": 40,
     "metadata": {},
     "output_type": "execute_result"
    }
   ],
   "source": [
    "rfr.fit(X_train, y_train)\n",
    "rfr.score(X_test, y_test)"
   ]
  },
  {
   "cell_type": "code",
   "execution_count": 41,
   "id": "4847bc96",
   "metadata": {},
   "outputs": [
    {
     "data": {
      "text/plain": [
       "0.37673507693066033"
      ]
     },
     "execution_count": 41,
     "metadata": {},
     "output_type": "execute_result"
    }
   ],
   "source": [
    "svr.fit(X_train, y_train)\n",
    "svr.score(X_test, y_test)"
   ]
  },
  {
   "cell_type": "markdown",
   "id": "134836bb",
   "metadata": {},
   "source": [
    "## Trying dataframe with removed outliers"
   ]
  },
  {
   "cell_type": "code",
   "execution_count": 42,
   "id": "72d412c2",
   "metadata": {},
   "outputs": [],
   "source": [
    "modified = pd.get_dummies(data=modified, columns=['location'])"
   ]
  },
  {
   "cell_type": "code",
   "execution_count": 43,
   "id": "d2bcbeab",
   "metadata": {},
   "outputs": [],
   "source": [
    "X = modified.drop(['location_others', 'price', 'price_per_sqft'], axis=1)\n",
    "y = modified['price']"
   ]
  },
  {
   "cell_type": "code",
   "execution_count": 44,
   "id": "10daa268",
   "metadata": {},
   "outputs": [],
   "source": [
    "X_train, X_test, y_train, y_test = tts(X, y, test_size=0.2)"
   ]
  },
  {
   "cell_type": "code",
   "execution_count": 45,
   "id": "e1cd239c",
   "metadata": {},
   "outputs": [],
   "source": [
    "lr = LinearRegression()\n",
    "rfr = RandomForestRegressor()\n",
    "svr = SVR()"
   ]
  },
  {
   "cell_type": "code",
   "execution_count": 46,
   "id": "c500e03a",
   "metadata": {},
   "outputs": [
    {
     "data": {
      "text/plain": [
       "0.6009573893461567"
      ]
     },
     "execution_count": 46,
     "metadata": {},
     "output_type": "execute_result"
    }
   ],
   "source": [
    "lr.fit(X_train, y_train)\n",
    "lr.score(X_test, y_test)"
   ]
  },
  {
   "cell_type": "code",
   "execution_count": 47,
   "id": "756ec507",
   "metadata": {},
   "outputs": [
    {
     "data": {
      "text/plain": [
       "0.4522900003842988"
      ]
     },
     "execution_count": 47,
     "metadata": {},
     "output_type": "execute_result"
    }
   ],
   "source": [
    "rfr.fit(X_train, y_train)\n",
    "rfr.score(X_test, y_test)"
   ]
  },
  {
   "cell_type": "code",
   "execution_count": 48,
   "id": "c67d1747",
   "metadata": {},
   "outputs": [
    {
     "data": {
      "text/plain": [
       "0.4108195764484951"
      ]
     },
     "execution_count": 48,
     "metadata": {},
     "output_type": "execute_result"
    }
   ],
   "source": [
    "svr.fit(X_train, y_train)\n",
    "svr.score(X_test, y_test)"
   ]
  },
  {
   "cell_type": "markdown",
   "id": "d6755a16",
   "metadata": {},
   "source": [
    "## Trying modified2"
   ]
  },
  {
   "cell_type": "code",
   "execution_count": 49,
   "id": "8ef0300c",
   "metadata": {},
   "outputs": [],
   "source": [
    "modified2 = pd.get_dummies(data=modified2, columns=['location'])"
   ]
  },
  {
   "cell_type": "code",
   "execution_count": 50,
   "id": "48922376",
   "metadata": {},
   "outputs": [],
   "source": [
    "X = modified2.drop(['location_others', 'price', 'price_per_sqft'], axis=1)\n",
    "y = modified2['price']"
   ]
  },
  {
   "cell_type": "code",
   "execution_count": 51,
   "id": "fd35a3bc",
   "metadata": {},
   "outputs": [],
   "source": [
    "X_train, X_test, y_train, y_test = tts(X, y, test_size=0.2)"
   ]
  },
  {
   "cell_type": "code",
   "execution_count": 52,
   "id": "38d596cf",
   "metadata": {},
   "outputs": [],
   "source": [
    "lr = LinearRegression()\n",
    "rfr = RandomForestRegressor()\n",
    "svr = SVR()"
   ]
  },
  {
   "cell_type": "code",
   "execution_count": 53,
   "id": "046aaa1f",
   "metadata": {},
   "outputs": [
    {
     "data": {
      "text/plain": [
       "0.7511823820862922"
      ]
     },
     "execution_count": 53,
     "metadata": {},
     "output_type": "execute_result"
    }
   ],
   "source": [
    "lr.fit(X_train, y_train)\n",
    "lr.score(X_test, y_test)"
   ]
  },
  {
   "cell_type": "code",
   "execution_count": 54,
   "id": "2d7bb161",
   "metadata": {},
   "outputs": [
    {
     "data": {
      "text/plain": [
       "0.6920858973045996"
      ]
     },
     "execution_count": 54,
     "metadata": {},
     "output_type": "execute_result"
    }
   ],
   "source": [
    "rfr.fit(X_train, y_train)\n",
    "rfr.score(X_test, y_test)"
   ]
  },
  {
   "cell_type": "code",
   "execution_count": 55,
   "id": "6e276e34",
   "metadata": {},
   "outputs": [
    {
     "data": {
      "text/plain": [
       "0.48647803925461874"
      ]
     },
     "execution_count": 55,
     "metadata": {},
     "output_type": "execute_result"
    }
   ],
   "source": [
    "svr.fit(X_train, y_train)\n",
    "svr.score(X_test, y_test)"
   ]
  },
  {
   "cell_type": "code",
   "execution_count": null,
   "id": "bfcb1623",
   "metadata": {},
   "outputs": [],
   "source": []
  },
  {
   "cell_type": "code",
   "execution_count": null,
   "id": "390e8e93",
   "metadata": {},
   "outputs": [],
   "source": []
  },
  {
   "cell_type": "code",
   "execution_count": null,
   "id": "26fe7f1b",
   "metadata": {},
   "outputs": [],
   "source": []
  },
  {
   "cell_type": "code",
   "execution_count": null,
   "id": "b23e8f8c",
   "metadata": {},
   "outputs": [],
   "source": []
  },
  {
   "cell_type": "code",
   "execution_count": null,
   "id": "22256505",
   "metadata": {},
   "outputs": [],
   "source": []
  }
 ],
 "metadata": {
  "kernelspec": {
   "display_name": "Python 3 (ipykernel)",
   "language": "python",
   "name": "python3"
  },
  "language_info": {
   "codemirror_mode": {
    "name": "ipython",
    "version": 3
   },
   "file_extension": ".py",
   "mimetype": "text/x-python",
   "name": "python",
   "nbconvert_exporter": "python",
   "pygments_lexer": "ipython3",
   "version": "3.11.2"
  }
 },
 "nbformat": 4,
 "nbformat_minor": 5
}
